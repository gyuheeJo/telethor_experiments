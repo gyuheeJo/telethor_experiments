{
 "cells": [
  {
   "cell_type": "markdown",
   "id": "8ec51cf7",
   "metadata": {},
   "source": [
    "# load data "
   ]
  },
  {
   "cell_type": "code",
   "execution_count": 1,
   "id": "febf5d00",
   "metadata": {},
   "outputs": [],
   "source": [
    "import pandas as pd\n",
    "import numpy as np\n",
    "from scipy.stats import zscore\n",
    "import json\n",
    "from sklearn.model_selection import train_test_split, StratifiedKFold\n",
    "from sklearn.ensemble import RandomForestClassifier\n",
    "from sklearn.metrics import accuracy_score, f1_score, recall_score, precision_score, roc_auc_score\n"
   ]
  },
  {
   "cell_type": "code",
   "execution_count": 2,
   "id": "d25021a3",
   "metadata": {},
   "outputs": [
    {
     "data": {
      "text/html": [
       "<div>\n",
       "<style scoped>\n",
       "    .dataframe tbody tr th:only-of-type {\n",
       "        vertical-align: middle;\n",
       "    }\n",
       "\n",
       "    .dataframe tbody tr th {\n",
       "        vertical-align: top;\n",
       "    }\n",
       "\n",
       "    .dataframe thead th {\n",
       "        text-align: right;\n",
       "    }\n",
       "</style>\n",
       "<table border=\"1\" class=\"dataframe\">\n",
       "  <thead>\n",
       "    <tr style=\"text-align: right;\">\n",
       "      <th></th>\n",
       "      <th>datetime</th>\n",
       "      <th>city_name</th>\n",
       "      <th>lat</th>\n",
       "      <th>lon</th>\n",
       "      <th>temp</th>\n",
       "      <th>dew_point</th>\n",
       "      <th>feels_like</th>\n",
       "      <th>temp_min</th>\n",
       "      <th>temp_max</th>\n",
       "      <th>pressure</th>\n",
       "      <th>humidity</th>\n",
       "      <th>wind_speed</th>\n",
       "      <th>wind_deg</th>\n",
       "      <th>rain_1h</th>\n",
       "      <th>clouds_all</th>\n",
       "      <th>rain</th>\n",
       "      <th>thunder</th>\n",
       "      <th>thunder_count</th>\n",
       "    </tr>\n",
       "  </thead>\n",
       "  <tbody>\n",
       "    <tr>\n",
       "      <th>0</th>\n",
       "      <td>2022-10-09 18:00:00</td>\n",
       "      <td>54</td>\n",
       "      <td>4.99719</td>\n",
       "      <td>-72.7074</td>\n",
       "      <td>24.95</td>\n",
       "      <td>21.46</td>\n",
       "      <td>25.62</td>\n",
       "      <td>24.24</td>\n",
       "      <td>25.24</td>\n",
       "      <td>1010</td>\n",
       "      <td>81</td>\n",
       "      <td>1.57</td>\n",
       "      <td>90</td>\n",
       "      <td>0.0</td>\n",
       "      <td>99</td>\n",
       "      <td>0</td>\n",
       "      <td>0</td>\n",
       "      <td>0</td>\n",
       "    </tr>\n",
       "    <tr>\n",
       "      <th>1</th>\n",
       "      <td>2022-10-09 19:00:00</td>\n",
       "      <td>54</td>\n",
       "      <td>4.99719</td>\n",
       "      <td>-72.7074</td>\n",
       "      <td>24.61</td>\n",
       "      <td>22.11</td>\n",
       "      <td>25.37</td>\n",
       "      <td>23.83</td>\n",
       "      <td>25.14</td>\n",
       "      <td>1011</td>\n",
       "      <td>86</td>\n",
       "      <td>1.28</td>\n",
       "      <td>75</td>\n",
       "      <td>0.0</td>\n",
       "      <td>98</td>\n",
       "      <td>0</td>\n",
       "      <td>1</td>\n",
       "      <td>1</td>\n",
       "    </tr>\n",
       "    <tr>\n",
       "      <th>2</th>\n",
       "      <td>2022-10-09 20:00:00</td>\n",
       "      <td>54</td>\n",
       "      <td>4.99719</td>\n",
       "      <td>-72.7074</td>\n",
       "      <td>24.74</td>\n",
       "      <td>22.43</td>\n",
       "      <td>25.54</td>\n",
       "      <td>24.01</td>\n",
       "      <td>25.28</td>\n",
       "      <td>1013</td>\n",
       "      <td>87</td>\n",
       "      <td>1.18</td>\n",
       "      <td>64</td>\n",
       "      <td>0.0</td>\n",
       "      <td>99</td>\n",
       "      <td>0</td>\n",
       "      <td>0</td>\n",
       "      <td>0</td>\n",
       "    </tr>\n",
       "    <tr>\n",
       "      <th>3</th>\n",
       "      <td>2022-10-09 21:00:00</td>\n",
       "      <td>54</td>\n",
       "      <td>4.99719</td>\n",
       "      <td>-72.7074</td>\n",
       "      <td>23.76</td>\n",
       "      <td>22.20</td>\n",
       "      <td>24.57</td>\n",
       "      <td>22.96</td>\n",
       "      <td>24.29</td>\n",
       "      <td>1014</td>\n",
       "      <td>91</td>\n",
       "      <td>1.21</td>\n",
       "      <td>64</td>\n",
       "      <td>0.0</td>\n",
       "      <td>100</td>\n",
       "      <td>0</td>\n",
       "      <td>1</td>\n",
       "      <td>1</td>\n",
       "    </tr>\n",
       "    <tr>\n",
       "      <th>4</th>\n",
       "      <td>2022-10-09 22:00:00</td>\n",
       "      <td>54</td>\n",
       "      <td>4.99719</td>\n",
       "      <td>-72.7074</td>\n",
       "      <td>23.18</td>\n",
       "      <td>21.63</td>\n",
       "      <td>23.93</td>\n",
       "      <td>22.39</td>\n",
       "      <td>23.56</td>\n",
       "      <td>1014</td>\n",
       "      <td>91</td>\n",
       "      <td>0.73</td>\n",
       "      <td>23</td>\n",
       "      <td>0.0</td>\n",
       "      <td>98</td>\n",
       "      <td>0</td>\n",
       "      <td>1</td>\n",
       "      <td>2</td>\n",
       "    </tr>\n",
       "  </tbody>\n",
       "</table>\n",
       "</div>"
      ],
      "text/plain": [
       "              datetime  city_name      lat      lon   temp  dew_point  \\\n",
       "0  2022-10-09 18:00:00         54  4.99719 -72.7074  24.95      21.46   \n",
       "1  2022-10-09 19:00:00         54  4.99719 -72.7074  24.61      22.11   \n",
       "2  2022-10-09 20:00:00         54  4.99719 -72.7074  24.74      22.43   \n",
       "3  2022-10-09 21:00:00         54  4.99719 -72.7074  23.76      22.20   \n",
       "4  2022-10-09 22:00:00         54  4.99719 -72.7074  23.18      21.63   \n",
       "\n",
       "   feels_like  temp_min  temp_max  pressure  humidity  wind_speed  wind_deg  \\\n",
       "0       25.62     24.24     25.24      1010        81        1.57        90   \n",
       "1       25.37     23.83     25.14      1011        86        1.28        75   \n",
       "2       25.54     24.01     25.28      1013        87        1.18        64   \n",
       "3       24.57     22.96     24.29      1014        91        1.21        64   \n",
       "4       23.93     22.39     23.56      1014        91        0.73        23   \n",
       "\n",
       "   rain_1h  clouds_all  rain  thunder  thunder_count  \n",
       "0      0.0          99     0        0              0  \n",
       "1      0.0          98     0        1              1  \n",
       "2      0.0          99     0        0              0  \n",
       "3      0.0         100     0        1              1  \n",
       "4      0.0          98     0        1              2  "
      ]
     },
     "execution_count": 2,
     "metadata": {},
     "output_type": "execute_result"
    }
   ],
   "source": [
    "dataframe = pd.concat([\n",
    "    pd.read_csv(\"data/climate_data_54.csv\"),\n",
    "    pd.read_csv(\"data/climate_data_55.csv\")\n",
    "], ignore_index=True)\n",
    "dataframe.head()"
   ]
  },
  {
   "cell_type": "code",
   "execution_count": 3,
   "id": "3847e9b8",
   "metadata": {},
   "outputs": [
    {
     "data": {
      "text/html": [
       "<div>\n",
       "<style scoped>\n",
       "    .dataframe tbody tr th:only-of-type {\n",
       "        vertical-align: middle;\n",
       "    }\n",
       "\n",
       "    .dataframe tbody tr th {\n",
       "        vertical-align: top;\n",
       "    }\n",
       "\n",
       "    .dataframe thead th {\n",
       "        text-align: right;\n",
       "    }\n",
       "</style>\n",
       "<table border=\"1\" class=\"dataframe\">\n",
       "  <thead>\n",
       "    <tr style=\"text-align: right;\">\n",
       "      <th></th>\n",
       "      <th>city_name</th>\n",
       "      <th>lat</th>\n",
       "      <th>lon</th>\n",
       "      <th>temp</th>\n",
       "      <th>dew_point</th>\n",
       "      <th>feels_like</th>\n",
       "      <th>temp_min</th>\n",
       "      <th>temp_max</th>\n",
       "      <th>pressure</th>\n",
       "      <th>humidity</th>\n",
       "      <th>wind_speed</th>\n",
       "      <th>wind_deg</th>\n",
       "      <th>rain_1h</th>\n",
       "      <th>clouds_all</th>\n",
       "      <th>rain</th>\n",
       "      <th>thunder</th>\n",
       "      <th>thunder_count</th>\n",
       "    </tr>\n",
       "  </thead>\n",
       "  <tbody>\n",
       "    <tr>\n",
       "      <th>count</th>\n",
       "      <td>39074.000000</td>\n",
       "      <td>39074.000000</td>\n",
       "      <td>39074.000000</td>\n",
       "      <td>39074.000000</td>\n",
       "      <td>39074.000000</td>\n",
       "      <td>39074.000000</td>\n",
       "      <td>39074.000000</td>\n",
       "      <td>39074.000000</td>\n",
       "      <td>39074.000000</td>\n",
       "      <td>39074.000000</td>\n",
       "      <td>39074.000000</td>\n",
       "      <td>39074.000000</td>\n",
       "      <td>39074.000000</td>\n",
       "      <td>39074.000000</td>\n",
       "      <td>39074.000000</td>\n",
       "      <td>39074.000000</td>\n",
       "      <td>39074.000000</td>\n",
       "    </tr>\n",
       "    <tr>\n",
       "      <th>mean</th>\n",
       "      <td>54.500000</td>\n",
       "      <td>5.115477</td>\n",
       "      <td>-72.673969</td>\n",
       "      <td>25.069404</td>\n",
       "      <td>20.938437</td>\n",
       "      <td>26.322247</td>\n",
       "      <td>24.451300</td>\n",
       "      <td>25.607355</td>\n",
       "      <td>1013.625608</td>\n",
       "      <td>79.201899</td>\n",
       "      <td>1.105853</td>\n",
       "      <td>201.949762</td>\n",
       "      <td>0.174930</td>\n",
       "      <td>76.508701</td>\n",
       "      <td>0.279291</td>\n",
       "      <td>0.123970</td>\n",
       "      <td>8.704714</td>\n",
       "    </tr>\n",
       "    <tr>\n",
       "      <th>std</th>\n",
       "      <td>0.500006</td>\n",
       "      <td>0.117589</td>\n",
       "      <td>0.032309</td>\n",
       "      <td>3.287519</td>\n",
       "      <td>1.752598</td>\n",
       "      <td>4.277070</td>\n",
       "      <td>3.385092</td>\n",
       "      <td>3.278416</td>\n",
       "      <td>2.768608</td>\n",
       "      <td>12.913318</td>\n",
       "      <td>0.653557</td>\n",
       "      <td>107.347281</td>\n",
       "      <td>0.598313</td>\n",
       "      <td>27.485862</td>\n",
       "      <td>0.448656</td>\n",
       "      <td>0.329551</td>\n",
       "      <td>89.328204</td>\n",
       "    </tr>\n",
       "    <tr>\n",
       "      <th>min</th>\n",
       "      <td>54.000000</td>\n",
       "      <td>4.997190</td>\n",
       "      <td>-72.707400</td>\n",
       "      <td>15.240000</td>\n",
       "      <td>12.700000</td>\n",
       "      <td>15.040000</td>\n",
       "      <td>14.410000</td>\n",
       "      <td>15.580000</td>\n",
       "      <td>1005.000000</td>\n",
       "      <td>29.000000</td>\n",
       "      <td>0.000000</td>\n",
       "      <td>0.000000</td>\n",
       "      <td>0.000000</td>\n",
       "      <td>0.000000</td>\n",
       "      <td>0.000000</td>\n",
       "      <td>0.000000</td>\n",
       "      <td>0.000000</td>\n",
       "    </tr>\n",
       "    <tr>\n",
       "      <th>25%</th>\n",
       "      <td>54.000000</td>\n",
       "      <td>4.997190</td>\n",
       "      <td>-72.707400</td>\n",
       "      <td>22.550000</td>\n",
       "      <td>19.840000</td>\n",
       "      <td>23.170000</td>\n",
       "      <td>21.830000</td>\n",
       "      <td>23.100000</td>\n",
       "      <td>1012.000000</td>\n",
       "      <td>71.000000</td>\n",
       "      <td>0.620000</td>\n",
       "      <td>109.000000</td>\n",
       "      <td>0.000000</td>\n",
       "      <td>60.000000</td>\n",
       "      <td>0.000000</td>\n",
       "      <td>0.000000</td>\n",
       "      <td>0.000000</td>\n",
       "    </tr>\n",
       "    <tr>\n",
       "      <th>50%</th>\n",
       "      <td>54.500000</td>\n",
       "      <td>5.116820</td>\n",
       "      <td>-72.671750</td>\n",
       "      <td>24.590000</td>\n",
       "      <td>21.070000</td>\n",
       "      <td>25.260000</td>\n",
       "      <td>23.980000</td>\n",
       "      <td>25.140000</td>\n",
       "      <td>1014.000000</td>\n",
       "      <td>82.000000</td>\n",
       "      <td>0.970000</td>\n",
       "      <td>186.000000</td>\n",
       "      <td>0.000000</td>\n",
       "      <td>90.000000</td>\n",
       "      <td>0.000000</td>\n",
       "      <td>0.000000</td>\n",
       "      <td>0.000000</td>\n",
       "    </tr>\n",
       "    <tr>\n",
       "      <th>75%</th>\n",
       "      <td>55.000000</td>\n",
       "      <td>5.233060</td>\n",
       "      <td>-72.641700</td>\n",
       "      <td>27.370000</td>\n",
       "      <td>22.150000</td>\n",
       "      <td>29.627500</td>\n",
       "      <td>26.850000</td>\n",
       "      <td>27.890000</td>\n",
       "      <td>1016.000000</td>\n",
       "      <td>89.000000</td>\n",
       "      <td>1.450000</td>\n",
       "      <td>315.000000</td>\n",
       "      <td>0.130000</td>\n",
       "      <td>98.000000</td>\n",
       "      <td>1.000000</td>\n",
       "      <td>0.000000</td>\n",
       "      <td>0.000000</td>\n",
       "    </tr>\n",
       "    <tr>\n",
       "      <th>max</th>\n",
       "      <td>55.000000</td>\n",
       "      <td>5.233060</td>\n",
       "      <td>-72.641700</td>\n",
       "      <td>36.010000</td>\n",
       "      <td>29.860000</td>\n",
       "      <td>41.040000</td>\n",
       "      <td>35.430000</td>\n",
       "      <td>37.060000</td>\n",
       "      <td>1024.000000</td>\n",
       "      <td>100.000000</td>\n",
       "      <td>4.450000</td>\n",
       "      <td>360.000000</td>\n",
       "      <td>17.660000</td>\n",
       "      <td>100.000000</td>\n",
       "      <td>1.000000</td>\n",
       "      <td>1.000000</td>\n",
       "      <td>6213.000000</td>\n",
       "    </tr>\n",
       "  </tbody>\n",
       "</table>\n",
       "</div>"
      ],
      "text/plain": [
       "          city_name           lat           lon          temp     dew_point  \\\n",
       "count  39074.000000  39074.000000  39074.000000  39074.000000  39074.000000   \n",
       "mean      54.500000      5.115477    -72.673969     25.069404     20.938437   \n",
       "std        0.500006      0.117589      0.032309      3.287519      1.752598   \n",
       "min       54.000000      4.997190    -72.707400     15.240000     12.700000   \n",
       "25%       54.000000      4.997190    -72.707400     22.550000     19.840000   \n",
       "50%       54.500000      5.116820    -72.671750     24.590000     21.070000   \n",
       "75%       55.000000      5.233060    -72.641700     27.370000     22.150000   \n",
       "max       55.000000      5.233060    -72.641700     36.010000     29.860000   \n",
       "\n",
       "         feels_like      temp_min      temp_max      pressure      humidity  \\\n",
       "count  39074.000000  39074.000000  39074.000000  39074.000000  39074.000000   \n",
       "mean      26.322247     24.451300     25.607355   1013.625608     79.201899   \n",
       "std        4.277070      3.385092      3.278416      2.768608     12.913318   \n",
       "min       15.040000     14.410000     15.580000   1005.000000     29.000000   \n",
       "25%       23.170000     21.830000     23.100000   1012.000000     71.000000   \n",
       "50%       25.260000     23.980000     25.140000   1014.000000     82.000000   \n",
       "75%       29.627500     26.850000     27.890000   1016.000000     89.000000   \n",
       "max       41.040000     35.430000     37.060000   1024.000000    100.000000   \n",
       "\n",
       "         wind_speed      wind_deg       rain_1h    clouds_all          rain  \\\n",
       "count  39074.000000  39074.000000  39074.000000  39074.000000  39074.000000   \n",
       "mean       1.105853    201.949762      0.174930     76.508701      0.279291   \n",
       "std        0.653557    107.347281      0.598313     27.485862      0.448656   \n",
       "min        0.000000      0.000000      0.000000      0.000000      0.000000   \n",
       "25%        0.620000    109.000000      0.000000     60.000000      0.000000   \n",
       "50%        0.970000    186.000000      0.000000     90.000000      0.000000   \n",
       "75%        1.450000    315.000000      0.130000     98.000000      1.000000   \n",
       "max        4.450000    360.000000     17.660000    100.000000      1.000000   \n",
       "\n",
       "            thunder  thunder_count  \n",
       "count  39074.000000   39074.000000  \n",
       "mean       0.123970       8.704714  \n",
       "std        0.329551      89.328204  \n",
       "min        0.000000       0.000000  \n",
       "25%        0.000000       0.000000  \n",
       "50%        0.000000       0.000000  \n",
       "75%        0.000000       0.000000  \n",
       "max        1.000000    6213.000000  "
      ]
     },
     "execution_count": 3,
     "metadata": {},
     "output_type": "execute_result"
    }
   ],
   "source": [
    "dataframe.describe()"
   ]
  },
  {
   "cell_type": "code",
   "execution_count": 4,
   "id": "9fbd8e64",
   "metadata": {},
   "outputs": [
    {
     "data": {
      "image/png": "[encoded data removed]",
      "text/plain": [
       "<Figure size 1000x600 with 2 Axes>"
      ]
     },
     "metadata": {},
     "output_type": "display_data"
    }
   ],
   "source": [
    "import seaborn as sns\n",
    "import matplotlib.pyplot as plt\n",
    "\n",
    "corr_matrix = dataframe.drop('datetime', axis=1).corr()\n",
    "plt.figure(figsize=(10, 6))\n",
    "# Visualizar la matriz de correlación como un heatmap\n",
    "sns.heatmap(corr_matrix, annot=True, cmap='coolwarm', fmt='.2f')\n",
    "\n",
    "# Mostrar el gráfico\n",
    "plt.show()"
   ]
  },
  {
   "cell_type": "markdown",
   "id": "22f8e10b",
   "metadata": {},
   "source": [
    "# load best params"
   ]
  },
  {
   "cell_type": "code",
   "execution_count": 5,
   "id": "8502092d",
   "metadata": {},
   "outputs": [],
   "source": [
    "#load the best hyper params \n",
    "with open('scripts/best_params.json') as f:\n",
    "    best = json.load(f)\n",
    "best = best['best_params']"
   ]
  },
  {
   "cell_type": "markdown",
   "id": "4bd5812f",
   "metadata": {},
   "source": [
    "# preprocess"
   ]
  },
  {
   "cell_type": "markdown",
   "id": "d41cd90f",
   "metadata": {},
   "source": [
    "## outliers"
   ]
  },
  {
   "cell_type": "code",
   "execution_count": 6,
   "id": "2737ba36",
   "metadata": {},
   "outputs": [],
   "source": [
    "def zscore_count(df, column):\n",
    "    z = zscore(df[column])\n",
    "    \n",
    "    return df[z.abs() > 3][column]"
   ]
  },
  {
   "cell_type": "markdown",
   "id": "418431d4",
   "metadata": {},
   "source": [
    "## normalize and group by n steps"
   ]
  },
  {
   "cell_type": "code",
   "execution_count": 7,
   "id": "f7cda5c6",
   "metadata": {},
   "outputs": [],
   "source": [
    "from scripts.preprocess import scale, ts_preprocess, balance"
   ]
  },
  {
   "cell_type": "code",
   "execution_count": 8,
   "id": "230bbd44",
   "metadata": {},
   "outputs": [],
   "source": [
    "#string to datetime format\n",
    "dataframe[\"datetime\"] = pd.to_datetime(dataframe[\"datetime\"])\n",
    "\n",
    "#drop redundant features\n",
    "dataframe_fs = dataframe.drop(['thunder_count', 'temp_min', 'temp_max', 'feels_like'], axis=1)\n",
    "\n",
    "#select features tu scale\n",
    "scale_cols = list(dataframe_fs.columns)\n",
    "scale_cols = [x for x in scale_cols if x not in ['thunder', 'city_name', 'datetime']]\n",
    "\n",
    "#scale feature with standard scaler\n",
    "dataframe_fs[scale_cols] = scale(dataframe_fs[scale_cols], 'standard')\n",
    "\n",
    "#sort by city and datetime and group by city\n",
    "df_sorted = dataframe_fs.sort_values(by=[\"city_name\", \"datetime\"])\n",
    "groups = df_sorted.groupby('city_name')"
   ]
  },
  {
   "cell_type": "code",
   "execution_count": 9,
   "id": "65e967fc",
   "metadata": {},
   "outputs": [],
   "source": [
    "#process data to obtain shape: (N, seq_length, N_columns)\n",
    "#and balance the data\n",
    "X_ts = []\n",
    "y_ts = []\n",
    "X_sc = []\n",
    "y_sc = []\n",
    "\n",
    "n_steps = best.pop('n_steps')\n",
    "\n",
    "for key, group in groups:\n",
    "\n",
    "    X = group.drop(['thunder', 'datetime', 'city_name'], axis=1)\n",
    "    y = group['thunder']\n",
    "    \n",
    "    X = X.to_numpy()\n",
    "    y = y.to_numpy()\n",
    "\n",
    "    #without timesteps\n",
    "    X_, y_ = balance(X, y)\n",
    "    X_sc.append(X_)\n",
    "    y_sc.append(y_)\n",
    "\n",
    "    #with timesteps\n",
    "    X, y = ts_preprocess(X, y, n_steps)\n",
    "    X, y = balance(X, y)\n",
    "    X_ts.append(X)\n",
    "    y_ts.append(y)\n",
    "\n",
    "X_ts = np.concatenate(X_ts, axis=0)\n",
    "y_ts = np.concatenate(y_ts, axis=0)\n",
    "X_sc = np.concatenate(X_sc, axis=0)\n",
    "y_sc = np.concatenate(y_sc, axis=0)"
   ]
  },
  {
   "cell_type": "code",
   "execution_count": 10,
   "id": "0ba57f2d",
   "metadata": {},
   "outputs": [
    {
     "data": {
      "text/plain": [
       "((9672, 31, 11), (9672,), (9688, 11), (9688,))"
      ]
     },
     "execution_count": 10,
     "metadata": {},
     "output_type": "execute_result"
    }
   ],
   "source": [
    "X_ts.shape, y_ts.shape, X_sc.shape, y_sc.shape"
   ]
  },
  {
   "cell_type": "code",
   "execution_count": 11,
   "id": "34949905",
   "metadata": {},
   "outputs": [
    {
     "data": {
      "text/plain": [
       "(np.int64(4836), np.int64(4836))"
      ]
     },
     "execution_count": 11,
     "metadata": {},
     "output_type": "execute_result"
    }
   ],
   "source": [
    "(y_ts == 1).sum(), (y_ts == 0).sum()"
   ]
  },
  {
   "cell_type": "markdown",
   "id": "3be7e687",
   "metadata": {},
   "source": [
    "# Train test model"
   ]
  },
  {
   "cell_type": "code",
   "execution_count": null,
   "id": "3775dd2e",
   "metadata": {},
   "outputs": [
    {
     "name": "stdout",
     "output_type": "stream",
     "text": [
      "f1: 0.6844, accuracy: 0.6703, recall: 0.7115, precision: 0.6594\n"
     ]
    }
   ],
   "source": [
    "# Dividir los datos en entrenamiento y prueba\n",
    "X_train, X_test, y_train, y_test = train_test_split(X_sc, y_sc, test_size=0.2, random_state=42)\n",
    "\n",
    "# Crear el modelo RandomForest\n",
    "model = RandomForestClassifier(n_estimators=100, random_state=42)\n",
    "\n",
    "# Entrenar el modelo\n",
    "model.fit(X_train, y_train)\n",
    "\n",
    "# Predecir en los datos de prueba\n",
    "y_pred = model.predict(X_test)\n",
    "\n",
    "# Evaluar el modelo\n",
    "f1 = f1_score(y_test, y_pred)\n",
    "recall = recall_score(y_test, y_pred)\n",
    "precision = precision_score(y_test, y_pred)\n",
    "accuracy = accuracy_score(y_test, y_pred)\n",
    "print(f\"f1: {f1:.4f}, accuracy: {accuracy:.4f}, recall: {recall:.4f}, precision: {precision:.4f}\")\n",
    "# print(y_test[:100])\n",
    "# print(y_pred[:100])"
   ]
  },
  {
   "cell_type": "markdown",
   "id": "cc8dce52",
   "metadata": {},
   "source": [
    "# LSTM"
   ]
  },
  {
   "cell_type": "markdown",
   "id": "95410d0f",
   "metadata": {},
   "source": [
    "## model"
   ]
  },
  {
   "cell_type": "code",
   "execution_count": null,
   "id": "f658ea8e",
   "metadata": {},
   "outputs": [],
   "source": [
    "from scripts.train import lstm_torch_cv, lstm_torch_train"
   ]
  },
  {
   "cell_type": "markdown",
   "id": "1ddf2ebc",
   "metadata": {},
   "source": [
    "## test lstm"
   ]
  },
  {
   "cell_type": "code",
   "execution_count": 15,
   "id": "d938d663",
   "metadata": {},
   "outputs": [
    {
     "name": "stderr",
     "output_type": "stream",
     "text": [
      "Seed set to 42\n",
      "You are using the plain ModelCheckpoint callback. Consider using LitModelCheckpoint which with seamless uploading to Model registry.\n",
      "GPU available: False, used: False\n",
      "TPU available: False, using: 0 TPU cores\n",
      "HPU available: False, using: 0 HPUs\n",
      "\n",
      "  | Name         | Type    | Params | Mode \n",
      "-------------------------------------------------\n",
      "0 | lstm         | LSTM    | 14.2 K | train\n",
      "1 | hidden2label | Linear  | 33     | train\n",
      "2 | criterion    | BCELoss | 0      | train\n",
      "-------------------------------------------------\n",
      "14.2 K    Trainable params\n",
      "0         Non-trainable params\n",
      "14.2 K    Total params\n",
      "0.057     Total estimated model params size (MB)\n",
      "3         Modules in train mode\n",
      "0         Modules in eval mode\n",
      "/home/gyuhee/Documents/bioinformatics/atlas/micro_atlas/env/lib/python3.11/site-packages/lightning/pytorch/trainer/connectors/data_connector.py:425: The 'train_dataloader' does not have many workers which may be a bottleneck. Consider increasing the value of the `num_workers` argument` to `num_workers=7` in the `DataLoader` to improve performance.\n"
     ]
    },
    {
     "name": "stdout",
     "output_type": "stream",
     "text": [
      "Epoch 699: 100%|██████████| 57/57 [00:00<00:00, 69.75it/s, v_num=86]"
     ]
    },
    {
     "name": "stderr",
     "output_type": "stream",
     "text": [
      "`Trainer.fit` stopped: `max_epochs=700` reached.\n"
     ]
    },
    {
     "name": "stdout",
     "output_type": "stream",
     "text": [
      "Epoch 699: 100%|██████████| 57/57 [00:00<00:00, 69.33it/s, v_num=86]\n"
     ]
    },
    {
     "name": "stderr",
     "output_type": "stream",
     "text": [
      "Seed set to 42\n",
      "You are using the plain ModelCheckpoint callback. Consider using LitModelCheckpoint which with seamless uploading to Model registry.\n",
      "GPU available: False, used: False\n",
      "TPU available: False, using: 0 TPU cores\n",
      "HPU available: False, using: 0 HPUs\n",
      "\n",
      "  | Name         | Type    | Params | Mode \n",
      "-------------------------------------------------\n",
      "0 | lstm         | LSTM    | 14.2 K | train\n",
      "1 | hidden2label | Linear  | 33     | train\n",
      "2 | criterion    | BCELoss | 0      | train\n",
      "-------------------------------------------------\n",
      "14.2 K    Trainable params\n",
      "0         Non-trainable params\n",
      "14.2 K    Total params\n",
      "0.057     Total estimated model params size (MB)\n",
      "3         Modules in train mode\n",
      "0         Modules in eval mode\n",
      "/home/gyuhee/Documents/bioinformatics/atlas/micro_atlas/env/lib/python3.11/site-packages/lightning/pytorch/trainer/connectors/data_connector.py:425: The 'train_dataloader' does not have many workers which may be a bottleneck. Consider increasing the value of the `num_workers` argument` to `num_workers=7` in the `DataLoader` to improve performance.\n"
     ]
    },
    {
     "name": "stdout",
     "output_type": "stream",
     "text": [
      "Epoch 699: 100%|██████████| 57/57 [00:00<00:00, 90.95it/s, v_num=87] "
     ]
    },
    {
     "name": "stderr",
     "output_type": "stream",
     "text": [
      "`Trainer.fit` stopped: `max_epochs=700` reached.\n"
     ]
    },
    {
     "name": "stdout",
     "output_type": "stream",
     "text": [
      "Epoch 699: 100%|██████████| 57/57 [00:00<00:00, 90.06it/s, v_num=87]\n"
     ]
    },
    {
     "name": "stderr",
     "output_type": "stream",
     "text": [
      "Seed set to 42\n",
      "You are using the plain ModelCheckpoint callback. Consider using LitModelCheckpoint which with seamless uploading to Model registry.\n",
      "GPU available: False, used: False\n",
      "TPU available: False, using: 0 TPU cores\n",
      "HPU available: False, using: 0 HPUs\n",
      "\n",
      "  | Name         | Type    | Params | Mode \n",
      "-------------------------------------------------\n",
      "0 | lstm         | LSTM    | 14.2 K | train\n",
      "1 | hidden2label | Linear  | 33     | train\n",
      "2 | criterion    | BCELoss | 0      | train\n",
      "-------------------------------------------------\n",
      "14.2 K    Trainable params\n",
      "0         Non-trainable params\n",
      "14.2 K    Total params\n",
      "0.057     Total estimated model params size (MB)\n",
      "3         Modules in train mode\n",
      "0         Modules in eval mode\n",
      "/home/gyuhee/Documents/bioinformatics/atlas/micro_atlas/env/lib/python3.11/site-packages/lightning/pytorch/trainer/connectors/data_connector.py:425: The 'train_dataloader' does not have many workers which may be a bottleneck. Consider increasing the value of the `num_workers` argument` to `num_workers=7` in the `DataLoader` to improve performance.\n"
     ]
    },
    {
     "name": "stdout",
     "output_type": "stream",
     "text": [
      "Epoch 699: 100%|██████████| 57/57 [00:00<00:00, 69.89it/s, v_num=88]"
     ]
    },
    {
     "name": "stderr",
     "output_type": "stream",
     "text": [
      "`Trainer.fit` stopped: `max_epochs=700` reached.\n"
     ]
    },
    {
     "name": "stdout",
     "output_type": "stream",
     "text": [
      "Epoch 699: 100%|██████████| 57/57 [00:00<00:00, 69.33it/s, v_num=88]\n"
     ]
    },
    {
     "name": "stderr",
     "output_type": "stream",
     "text": [
      "Seed set to 42\n",
      "You are using the plain ModelCheckpoint callback. Consider using LitModelCheckpoint which with seamless uploading to Model registry.\n",
      "GPU available: False, used: False\n",
      "TPU available: False, using: 0 TPU cores\n",
      "HPU available: False, using: 0 HPUs\n",
      "\n",
      "  | Name         | Type    | Params | Mode \n",
      "-------------------------------------------------\n",
      "0 | lstm         | LSTM    | 14.2 K | train\n",
      "1 | hidden2label | Linear  | 33     | train\n",
      "2 | criterion    | BCELoss | 0      | train\n",
      "-------------------------------------------------\n",
      "14.2 K    Trainable params\n",
      "0         Non-trainable params\n",
      "14.2 K    Total params\n",
      "0.057     Total estimated model params size (MB)\n",
      "3         Modules in train mode\n",
      "0         Modules in eval mode\n",
      "/home/gyuhee/Documents/bioinformatics/atlas/micro_atlas/env/lib/python3.11/site-packages/lightning/pytorch/trainer/connectors/data_connector.py:425: The 'train_dataloader' does not have many workers which may be a bottleneck. Consider increasing the value of the `num_workers` argument` to `num_workers=7` in the `DataLoader` to improve performance.\n"
     ]
    },
    {
     "name": "stdout",
     "output_type": "stream",
     "text": [
      "Epoch 699: 100%|██████████| 57/57 [00:00<00:00, 69.76it/s, v_num=89]"
     ]
    },
    {
     "name": "stderr",
     "output_type": "stream",
     "text": [
      "`Trainer.fit` stopped: `max_epochs=700` reached.\n"
     ]
    },
    {
     "name": "stdout",
     "output_type": "stream",
     "text": [
      "Epoch 699: 100%|██████████| 57/57 [00:00<00:00, 69.21it/s, v_num=89]\n",
      "accuracies [0.7861869313482217, 0.7758478081058726, 0.7890818858560794, 0.7894954507857733]\n",
      "f1_scores [np.float64(0.7929515418502202), np.float64(0.7847498014297061), np.float64(0.796812749003984), np.float64(0.7977751291219706)]\n",
      "precisions [np.float64(0.7686335403726708), np.float64(0.7547746371275783), np.float64(0.7686395080707148), np.float64(0.7675840978593272)]\n",
      "recalls [np.float64(0.8188585607940446), np.float64(0.8172043010752689), np.float64(0.8271298593879239), np.float64(0.8304383788254756)]\n",
      "aucs [np.float64(0.7861869313482216), np.float64(0.7758478081058727), np.float64(0.7890818858560794), np.float64(0.7894954507857733)]\n",
      "optimal_thresholds [0.5, 0.5, 0.5, 0.5]\n",
      "accuracy mean 0.7851530190239867\n",
      "f1_scores mean 0.7930723053514702\n",
      "precisions mean 0.7649079458575727\n",
      "recalls mean 0.8234077750206782\n",
      "aucs mean 0.7851530190239867\n",
      "optimal_thresholds mean 0.5\n"
     ]
    }
   ],
   "source": [
    "result_dict = lstm_torch_cv(X_ts, y_ts)"
   ]
  },
  {
   "cell_type": "code",
   "execution_count": 13,
   "id": "51035291",
   "metadata": {},
   "outputs": [
    {
     "name": "stderr",
     "output_type": "stream",
     "text": [
      "Seed set to 42\n",
      "You are using the plain ModelCheckpoint callback. Consider using LitModelCheckpoint which with seamless uploading to Model registry.\n"
     ]
    },
    {
     "name": "stderr",
     "output_type": "stream",
     "text": [
      "GPU available: False, used: False\n",
      "TPU available: False, using: 0 TPU cores\n",
      "HPU available: False, using: 0 HPUs\n",
      "2025-05-02 17:35:03.381012: I tensorflow/core/util/port.cc:153] oneDNN custom operations are on. You may see slightly different numerical results due to floating-point round-off errors from different computation orders. To turn them off, set the environment variable `TF_ENABLE_ONEDNN_OPTS=0`.\n",
      "2025-05-02 17:35:03.381801: I external/local_xla/xla/tsl/cuda/cudart_stub.cc:32] Could not find cuda drivers on your machine, GPU will not be used.\n",
      "2025-05-02 17:35:03.385118: I external/local_xla/xla/tsl/cuda/cudart_stub.cc:32] Could not find cuda drivers on your machine, GPU will not be used.\n",
      "2025-05-02 17:35:03.392020: E external/local_xla/xla/stream_executor/cuda/cuda_fft.cc:477] Unable to register cuFFT factory: Attempting to register factory for plugin cuFFT when one has already been registered\n",
      "WARNING: All log messages before absl::InitializeLog() is called are written to STDERR\n",
      "E0000 00:00:1746225303.406743   12420 cuda_dnn.cc:8310] Unable to register cuDNN factory: Attempting to register factory for plugin cuDNN when one has already been registered\n",
      "E0000 00:00:1746225303.410156   12420 cuda_blas.cc:1418] Unable to register cuBLAS factory: Attempting to register factory for plugin cuBLAS when one has already been registered\n",
      "2025-05-02 17:35:03.422807: I tensorflow/core/platform/cpu_feature_guard.cc:210] This TensorFlow binary is optimized to use available CPU instructions in performance-critical operations.\n",
      "To enable the following instructions: AVX2 AVX512F AVX512_VNNI FMA, in other operations, rebuild TensorFlow with the appropriate compiler flags.\n",
      "\n",
      "  | Name         | Type    | Params | Mode \n",
      "-------------------------------------------------\n",
      "0 | lstm         | LSTM    | 14.2 K | train\n",
      "1 | hidden2label | Linear  | 33     | train\n",
      "2 | criterion    | BCELoss | 0      | train\n",
      "-------------------------------------------------\n",
      "14.2 K    Trainable params\n",
      "0         Non-trainable params\n",
      "14.2 K    Total params\n",
      "0.057     Total estimated model params size (MB)\n",
      "3         Modules in train mode\n",
      "0         Modules in eval mode\n",
      "/home/gyuhee/Documents/bioinformatics/atlas/micro_atlas/env/lib/python3.11/site-packages/lightning/pytorch/trainer/connectors/data_connector.py:425: The 'train_dataloader' does not have many workers which may be a bottleneck. Consider increasing the value of the `num_workers` argument` to `num_workers=7` in the `DataLoader` to improve performance.\n"
     ]
    },
    {
     "name": "stdout",
     "output_type": "stream",
     "text": [
      "Epoch 699: 100%|██████████| 61/61 [00:00<00:00, 61.55it/s, v_num=1]"
     ]
    },
    {
     "name": "stderr",
     "output_type": "stream",
     "text": [
      "`Trainer.fit` stopped: `max_epochs=700` reached.\n"
     ]
    },
    {
     "name": "stdout",
     "output_type": "stream",
     "text": [
      "Epoch 699: 100%|██████████| 61/61 [00:00<00:00, 61.09it/s, v_num=1]\n"
     ]
    }
   ],
   "source": [
    "# Dividir los datos en entrenamiento y prueba\n",
    "X_train, X_test, y_train, y_test = train_test_split(X_ts, y_ts, test_size=0.2, random_state=100)\n",
    "\n",
    "result, cm = lstm_torch_train(X_train, X_test, y_train, y_test, cf_mt=True)"
   ]
  },
  {
   "cell_type": "code",
   "execution_count": 14,
   "id": "f9d5c6cc",
   "metadata": {},
   "outputs": [
    {
     "data": {
      "text/plain": [
       "array([[734, 253],\n",
       "       [159, 789]])"
      ]
     },
     "execution_count": 14,
     "metadata": {},
     "output_type": "execute_result"
    }
   ],
   "source": [
    "cm"
   ]
  },
  {
   "cell_type": "markdown",
   "id": "0944dd43",
   "metadata": {},
   "source": [
    "## test cnn lstm"
   ]
  },
  {
   "cell_type": "code",
   "execution_count": null,
   "id": "7eb0ded2",
   "metadata": {},
   "outputs": [
    {
     "name": "stderr",
     "output_type": "stream",
     "text": [
      "You are using the plain ModelCheckpoint callback. Consider using LitModelCheckpoint which with seamless uploading to Model registry.\n",
      "GPU available: False, used: False\n",
      "TPU available: False, using: 0 TPU cores\n",
      "HPU available: False, using: 0 HPUs\n",
      "2025-04-28 18:30:15.249334: I tensorflow/core/util/port.cc:153] oneDNN custom operations are on. You may see slightly different numerical results due to floating-point round-off errors from different computation orders. To turn them off, set the environment variable `TF_ENABLE_ONEDNN_OPTS=0`.\n",
      "2025-04-28 18:30:15.249847: I external/local_xla/xla/tsl/cuda/cudart_stub.cc:32] Could not find cuda drivers on your machine, GPU will not be used.\n",
      "2025-04-28 18:30:15.252196: I external/local_xla/xla/tsl/cuda/cudart_stub.cc:32] Could not find cuda drivers on your machine, GPU will not be used.\n",
      "2025-04-28 18:30:15.259590: E external/local_xla/xla/stream_executor/cuda/cuda_fft.cc:477] Unable to register cuFFT factory: Attempting to register factory for plugin cuFFT when one has already been registered\n",
      "WARNING: All log messages before absl::InitializeLog() is called are written to STDERR\n",
      "E0000 00:00:1745883015.271633   62793 cuda_dnn.cc:8310] Unable to register cuDNN factory: Attempting to register factory for plugin cuDNN when one has already been registered\n",
      "E0000 00:00:1745883015.275255   62793 cuda_blas.cc:1418] Unable to register cuBLAS factory: Attempting to register factory for plugin cuBLAS when one has already been registered\n",
      "2025-04-28 18:30:15.287644: I tensorflow/core/platform/cpu_feature_guard.cc:210] This TensorFlow binary is optimized to use available CPU instructions in performance-critical operations.\n",
      "To enable the following instructions: AVX2 AVX512F AVX512_VNNI FMA, in other operations, rebuild TensorFlow with the appropriate compiler flags.\n",
      "\n",
      "  | Name      | Type       | Params | Mode \n",
      "-------------------------------------------------\n",
      "0 | cnn       | Sequential | 130 K  | train\n",
      "1 | lstm      | LSTM       | 45.6 K | train\n",
      "2 | fc        | Linear     | 33     | train\n",
      "3 | criterion | BCELoss    | 0      | train\n",
      "-------------------------------------------------\n",
      "176 K     Trainable params\n",
      "0         Non-trainable params\n",
      "176 K     Total params\n",
      "0.705     Total estimated model params size (MB)\n",
      "12        Modules in train mode\n",
      "0         Modules in eval mode\n",
      "/home/gyuhee/Documents/bioinformatics/atlas/micro_atlas/env/lib/python3.11/site-packages/lightning/pytorch/trainer/connectors/data_connector.py:425: The 'train_dataloader' does not have many workers which may be a bottleneck. Consider increasing the value of the `num_workers` argument` to `num_workers=7` in the `DataLoader` to improve performance.\n"
     ]
    },
    {
     "name": "stdout",
     "output_type": "stream",
     "text": [
      "Epoch 99: 100%|██████████| 57/57 [00:01<00:00, 29.72it/s, v_num=43]"
     ]
    },
    {
     "name": "stderr",
     "output_type": "stream",
     "text": [
      "`Trainer.fit` stopped: `max_epochs=100` reached.\n"
     ]
    },
    {
     "name": "stdout",
     "output_type": "stream",
     "text": [
      "Epoch 99: 100%|██████████| 57/57 [00:01<00:00, 29.59it/s, v_num=43]\n"
     ]
    },
    {
     "name": "stderr",
     "output_type": "stream",
     "text": [
      "You are using the plain ModelCheckpoint callback. Consider using LitModelCheckpoint which with seamless uploading to Model registry.\n",
      "GPU available: False, used: False\n",
      "TPU available: False, using: 0 TPU cores\n",
      "HPU available: False, using: 0 HPUs\n",
      "\n",
      "  | Name      | Type       | Params | Mode \n",
      "-------------------------------------------------\n",
      "0 | cnn       | Sequential | 130 K  | train\n",
      "1 | lstm      | LSTM       | 45.6 K | train\n",
      "2 | fc        | Linear     | 33     | train\n",
      "3 | criterion | BCELoss    | 0      | train\n",
      "-------------------------------------------------\n",
      "176 K     Trainable params\n",
      "0         Non-trainable params\n",
      "176 K     Total params\n",
      "0.705     Total estimated model params size (MB)\n",
      "12        Modules in train mode\n",
      "0         Modules in eval mode\n",
      "/home/gyuhee/Documents/bioinformatics/atlas/micro_atlas/env/lib/python3.11/site-packages/lightning/pytorch/trainer/connectors/data_connector.py:425: The 'train_dataloader' does not have many workers which may be a bottleneck. Consider increasing the value of the `num_workers` argument` to `num_workers=7` in the `DataLoader` to improve performance.\n"
     ]
    },
    {
     "name": "stdout",
     "output_type": "stream",
     "text": [
      "Epoch 99: 100%|██████████| 57/57 [00:02<00:00, 25.80it/s, v_num=44]"
     ]
    },
    {
     "name": "stderr",
     "output_type": "stream",
     "text": [
      "`Trainer.fit` stopped: `max_epochs=100` reached.\n"
     ]
    },
    {
     "name": "stdout",
     "output_type": "stream",
     "text": [
      "Epoch 99: 100%|██████████| 57/57 [00:02<00:00, 25.69it/s, v_num=44]\n"
     ]
    },
    {
     "name": "stderr",
     "output_type": "stream",
     "text": [
      "You are using the plain ModelCheckpoint callback. Consider using LitModelCheckpoint which with seamless uploading to Model registry.\n",
      "GPU available: False, used: False\n",
      "TPU available: False, using: 0 TPU cores\n",
      "HPU available: False, using: 0 HPUs\n",
      "\n",
      "  | Name      | Type       | Params | Mode \n",
      "-------------------------------------------------\n",
      "0 | cnn       | Sequential | 130 K  | train\n",
      "1 | lstm      | LSTM       | 45.6 K | train\n",
      "2 | fc        | Linear     | 33     | train\n",
      "3 | criterion | BCELoss    | 0      | train\n",
      "-------------------------------------------------\n",
      "176 K     Trainable params\n",
      "0         Non-trainable params\n",
      "176 K     Total params\n",
      "0.705     Total estimated model params size (MB)\n",
      "12        Modules in train mode\n",
      "0         Modules in eval mode\n",
      "/home/gyuhee/Documents/bioinformatics/atlas/micro_atlas/env/lib/python3.11/site-packages/lightning/pytorch/trainer/connectors/data_connector.py:425: The 'train_dataloader' does not have many workers which may be a bottleneck. Consider increasing the value of the `num_workers` argument` to `num_workers=7` in the `DataLoader` to improve performance.\n"
     ]
    },
    {
     "name": "stdout",
     "output_type": "stream",
     "text": [
      "Epoch 99: 100%|██████████| 57/57 [00:02<00:00, 22.05it/s, v_num=45]"
     ]
    },
    {
     "name": "stderr",
     "output_type": "stream",
     "text": [
      "`Trainer.fit` stopped: `max_epochs=100` reached.\n"
     ]
    },
    {
     "name": "stdout",
     "output_type": "stream",
     "text": [
      "Epoch 99: 100%|██████████| 57/57 [00:02<00:00, 21.97it/s, v_num=45]\n"
     ]
    },
    {
     "name": "stderr",
     "output_type": "stream",
     "text": [
      "You are using the plain ModelCheckpoint callback. Consider using LitModelCheckpoint which with seamless uploading to Model registry.\n",
      "GPU available: False, used: False\n",
      "TPU available: False, using: 0 TPU cores\n",
      "HPU available: False, using: 0 HPUs\n",
      "\n",
      "  | Name      | Type       | Params | Mode \n",
      "-------------------------------------------------\n",
      "0 | cnn       | Sequential | 130 K  | train\n",
      "1 | lstm      | LSTM       | 45.6 K | train\n",
      "2 | fc        | Linear     | 33     | train\n",
      "3 | criterion | BCELoss    | 0      | train\n",
      "-------------------------------------------------\n",
      "176 K     Trainable params\n",
      "0         Non-trainable params\n",
      "176 K     Total params\n",
      "0.705     Total estimated model params size (MB)\n",
      "12        Modules in train mode\n",
      "0         Modules in eval mode\n",
      "/home/gyuhee/Documents/bioinformatics/atlas/micro_atlas/env/lib/python3.11/site-packages/lightning/pytorch/trainer/connectors/data_connector.py:425: The 'train_dataloader' does not have many workers which may be a bottleneck. Consider increasing the value of the `num_workers` argument` to `num_workers=7` in the `DataLoader` to improve performance.\n"
     ]
    },
    {
     "name": "stdout",
     "output_type": "stream",
     "text": [
      "Epoch 99: 100%|██████████| 57/57 [00:02<00:00, 23.13it/s, v_num=46]"
     ]
    },
    {
     "name": "stderr",
     "output_type": "stream",
     "text": [
      "`Trainer.fit` stopped: `max_epochs=100` reached.\n"
     ]
    },
    {
     "name": "stdout",
     "output_type": "stream",
     "text": [
      "Epoch 99: 100%|██████████| 57/57 [00:02<00:00, 23.00it/s, v_num=46]\n",
      "accuracies [0.7770885028949545, 0.7655086848635235, 0.8006617038875103, 0.7754342431761787]\n",
      "f1_scores [np.float64(0.7841409691629956), np.float64(0.7688544639217285), np.float64(0.803265306122449), np.float64(0.7832335329341318)]\n",
      "precisions [np.float64(0.7600931677018633), np.float64(0.7580385852090032), np.float64(0.7929089443996776), np.float64(0.7569444444444444)]\n",
      "recalls [np.float64(0.8097601323407775), np.float64(0.7799834574028123), np.float64(0.8138957816377171), np.float64(0.8114143920595533)]\n",
      "aucs [np.float64(0.7770885028949543), np.float64(0.7655086848635235), np.float64(0.8006617038875103), np.float64(0.7754342431761786)]\n",
      "optimal_thresholds [0.5, 0.5, 0.5, 0.5]\n",
      "accuracy mean 0.7796732837055418\n",
      "f1_scores mean 0.7848735680353263\n",
      "precisions mean 0.7669962854387471\n",
      "recalls mean 0.8037634408602151\n",
      "aucs mean 0.7796732837055417\n",
      "optimal_thresholds mean 0.5\n"
     ]
    }
   ],
   "source": [
    "result_dict = lstm_torch_cv(X_ts, y_ts, epochs=100, model_name='cnn_lstm')"
   ]
  },
  {
   "cell_type": "markdown",
   "id": "e701183e",
   "metadata": {},
   "source": [
    "# hyperparameter tuning"
   ]
  },
  {
   "cell_type": "code",
   "execution_count": null,
   "id": "87c4ba6f",
   "metadata": {},
   "outputs": [],
   "source": [
    "import optuna"
   ]
  },
  {
   "cell_type": "code",
   "execution_count": null,
   "id": "b73eb5a4",
   "metadata": {},
   "outputs": [],
   "source": [
    "def objective(trial):\n",
    "    #hyperparameters\n",
    "    #epochs = trial.suggest_int('epochs', 80, 700)\n",
    "    epochs =1\n",
    "    hidden_size = trial.suggest_int('hidden_size', 25, 50)\n",
    "    batch_size = trial.suggest_int('batch_size', 100, 512)\n",
    "    model_name = trial.suggest_categorical('model_name', ['lstm', 'cnn_lstm'])\n",
    "    num_layers = trial.suggest_int('num_layers', 1, 5)\n",
    "    dropout = trial.suggest_float('dropout', 0.1, 0.5, step=0.1)\n",
    "    kernel_size = trial.suggest_int('kernel_size', 2, 4)\n",
    "    num_cnn = trial.suggest_int('num_cnn', 1, 6)\n",
    "    lr = trial.suggest_float(\"lr\", 1e-4, 1e-1, log=True)\n",
    "    \n",
    "    result_dict = lstm_torch_cv(X_ts, y_ts, epochs = epochs, hidden_size = hidden_size, batch_size=batch_size, model_name = model_name, num_layers=num_layers, dropout = dropout, kernel_size = kernel_size, num_cnn = num_cnn, lr =lr)\n",
    "\n",
    "    return result_dict['f1_scores mean']"
   ]
  },
  {
   "cell_type": "code",
   "execution_count": 68,
   "id": "f5ae0986",
   "metadata": {},
   "outputs": [
    {
     "name": "stderr",
     "output_type": "stream",
     "text": [
      "[I 2025-04-28 20:19:02,476] A new study created in memory with name: no-name-97581964-bec7-4910-a854-0f1717e87f05\n",
      "Seed set to 42\n",
      "You are using the plain ModelCheckpoint callback. Consider using LitModelCheckpoint which with seamless uploading to Model registry.\n",
      "GPU available: False, used: False\n",
      "TPU available: False, using: 0 TPU cores\n",
      "HPU available: False, using: 0 HPUs\n",
      "\n",
      "  | Name         | Type    | Params | Mode \n",
      "-------------------------------------------------\n",
      "0 | lstm         | LSTM    | 17.7 K | train\n",
      "1 | hidden2label | Linear  | 37     | train\n",
      "2 | criterion    | BCELoss | 0      | train\n",
      "-------------------------------------------------\n",
      "17.7 K    Trainable params\n",
      "0         Non-trainable params\n",
      "17.7 K    Total params\n",
      "0.071     Total estimated model params size (MB)\n",
      "3         Modules in train mode\n",
      "0         Modules in eval mode\n",
      "/home/gyuhee/Documents/bioinformatics/atlas/micro_atlas/env/lib/python3.11/site-packages/lightning/pytorch/trainer/connectors/data_connector.py:425: The 'train_dataloader' does not have many workers which may be a bottleneck. Consider increasing the value of the `num_workers` argument` to `num_workers=7` in the `DataLoader` to improve performance.\n"
     ]
    },
    {
     "name": "stdout",
     "output_type": "stream",
     "text": [
      "Epoch 0: 100%|██████████| 49/49 [00:00<00:00, 77.73it/s, v_num=75]"
     ]
    },
    {
     "name": "stderr",
     "output_type": "stream",
     "text": [
      "`Trainer.fit` stopped: `max_epochs=1` reached.\n"
     ]
    },
    {
     "name": "stdout",
     "output_type": "stream",
     "text": [
      "Epoch 0: 100%|██████████| 49/49 [00:00<00:00, 77.28it/s, v_num=75]\n"
     ]
    },
    {
     "name": "stderr",
     "output_type": "stream",
     "text": [
      "Seed set to 42\n",
      "You are using the plain ModelCheckpoint callback. Consider using LitModelCheckpoint which with seamless uploading to Model registry.\n",
      "GPU available: False, used: False\n",
      "TPU available: False, using: 0 TPU cores\n",
      "HPU available: False, using: 0 HPUs\n",
      "\n",
      "  | Name         | Type    | Params | Mode \n",
      "-------------------------------------------------\n",
      "0 | lstm         | LSTM    | 17.7 K | train\n",
      "1 | hidden2label | Linear  | 37     | train\n",
      "2 | criterion    | BCELoss | 0      | train\n",
      "-------------------------------------------------\n",
      "17.7 K    Trainable params\n",
      "0         Non-trainable params\n",
      "17.7 K    Total params\n",
      "0.071     Total estimated model params size (MB)\n",
      "3         Modules in train mode\n",
      "0         Modules in eval mode\n",
      "/home/gyuhee/Documents/bioinformatics/atlas/micro_atlas/env/lib/python3.11/site-packages/lightning/pytorch/trainer/connectors/data_connector.py:425: The 'train_dataloader' does not have many workers which may be a bottleneck. Consider increasing the value of the `num_workers` argument` to `num_workers=7` in the `DataLoader` to improve performance.\n"
     ]
    },
    {
     "name": "stdout",
     "output_type": "stream",
     "text": [
      "Epoch 0: 100%|██████████| 49/49 [00:00<00:00, 81.48it/s, v_num=76]"
     ]
    },
    {
     "name": "stderr",
     "output_type": "stream",
     "text": [
      "`Trainer.fit` stopped: `max_epochs=1` reached.\n"
     ]
    },
    {
     "name": "stdout",
     "output_type": "stream",
     "text": [
      "Epoch 0: 100%|██████████| 49/49 [00:00<00:00, 80.82it/s, v_num=76]\n"
     ]
    },
    {
     "name": "stderr",
     "output_type": "stream",
     "text": [
      "Seed set to 42\n",
      "You are using the plain ModelCheckpoint callback. Consider using LitModelCheckpoint which with seamless uploading to Model registry.\n",
      "GPU available: False, used: False\n",
      "TPU available: False, using: 0 TPU cores\n",
      "HPU available: False, using: 0 HPUs\n",
      "\n",
      "  | Name         | Type    | Params | Mode \n",
      "-------------------------------------------------\n",
      "0 | lstm         | LSTM    | 17.7 K | train\n",
      "1 | hidden2label | Linear  | 37     | train\n",
      "2 | criterion    | BCELoss | 0      | train\n",
      "-------------------------------------------------\n",
      "17.7 K    Trainable params\n",
      "0         Non-trainable params\n",
      "17.7 K    Total params\n",
      "0.071     Total estimated model params size (MB)\n",
      "3         Modules in train mode\n",
      "0         Modules in eval mode\n",
      "/home/gyuhee/Documents/bioinformatics/atlas/micro_atlas/env/lib/python3.11/site-packages/lightning/pytorch/trainer/connectors/data_connector.py:425: The 'train_dataloader' does not have many workers which may be a bottleneck. Consider increasing the value of the `num_workers` argument` to `num_workers=7` in the `DataLoader` to improve performance.\n"
     ]
    },
    {
     "name": "stdout",
     "output_type": "stream",
     "text": [
      "Epoch 0: 100%|██████████| 49/49 [00:00<00:00, 78.81it/s, v_num=77]"
     ]
    },
    {
     "name": "stderr",
     "output_type": "stream",
     "text": [
      "`Trainer.fit` stopped: `max_epochs=1` reached.\n"
     ]
    },
    {
     "name": "stdout",
     "output_type": "stream",
     "text": [
      "Epoch 0: 100%|██████████| 49/49 [00:00<00:00, 78.08it/s, v_num=77]\n"
     ]
    },
    {
     "name": "stderr",
     "output_type": "stream",
     "text": [
      "Seed set to 42\n",
      "You are using the plain ModelCheckpoint callback. Consider using LitModelCheckpoint which with seamless uploading to Model registry.\n",
      "GPU available: False, used: False\n",
      "TPU available: False, using: 0 TPU cores\n",
      "HPU available: False, using: 0 HPUs\n",
      "\n",
      "  | Name         | Type    | Params | Mode \n",
      "-------------------------------------------------\n",
      "0 | lstm         | LSTM    | 17.7 K | train\n",
      "1 | hidden2label | Linear  | 37     | train\n",
      "2 | criterion    | BCELoss | 0      | train\n",
      "-------------------------------------------------\n",
      "17.7 K    Trainable params\n",
      "0         Non-trainable params\n",
      "17.7 K    Total params\n",
      "0.071     Total estimated model params size (MB)\n",
      "3         Modules in train mode\n",
      "0         Modules in eval mode\n",
      "/home/gyuhee/Documents/bioinformatics/atlas/micro_atlas/env/lib/python3.11/site-packages/lightning/pytorch/trainer/connectors/data_connector.py:425: The 'train_dataloader' does not have many workers which may be a bottleneck. Consider increasing the value of the `num_workers` argument` to `num_workers=7` in the `DataLoader` to improve performance.\n"
     ]
    },
    {
     "name": "stdout",
     "output_type": "stream",
     "text": [
      "Epoch 0: 100%|██████████| 49/49 [00:00<00:00, 79.29it/s, v_num=78]"
     ]
    },
    {
     "name": "stderr",
     "output_type": "stream",
     "text": [
      "`Trainer.fit` stopped: `max_epochs=1` reached.\n"
     ]
    },
    {
     "name": "stdout",
     "output_type": "stream",
     "text": [
      "Epoch 0: 100%|██████████| 49/49 [00:00<00:00, 78.82it/s, v_num=78]\n"
     ]
    },
    {
     "name": "stderr",
     "output_type": "stream",
     "text": [
      "[I 2025-04-28 20:19:05,259] Trial 0 finished with value: 0.6932992508360349 and parameters: {'hidden_size': 36, 'batch_size': 151, 'model_name': 'lstm', 'num_layers': 2, 'dropout': 0.5, 'kernel_size': 4, 'num_cnn': 4, 'lr': 0.0017325066604411325}. Best is trial 0 with value: 0.6932992508360349.\n"
     ]
    },
    {
     "name": "stdout",
     "output_type": "stream",
     "text": [
      "accuracies [0.6563275434243176, 0.6381306865177833, 0.6476426799007444, 0.6550868486352357]\n",
      "f1_scores [np.float64(0.6994575045207957), np.float64(0.6823956442831216), np.float64(0.6928622927180966), np.float64(0.6984815618221258)]\n",
      "precisions [np.float64(0.62146529562982), np.float64(0.6080206985769728), np.float64(0.6140575079872205), np.float64(0.6204238921001927)]\n",
      "recalls [np.float64(0.7998345740281224), np.float64(0.7775020678246485), np.float64(0.7948717948717948), np.float64(0.7990074441687345)]\n",
      "aucs [np.float64(0.6563275434243176), np.float64(0.6381306865177834), np.float64(0.6476426799007443), np.float64(0.6550868486352357)]\n",
      "optimal_thresholds [0.5, 0.5, 0.5, 0.5]\n",
      "accuracy mean 0.6492969396195203\n",
      "f1_scores mean 0.6932992508360349\n",
      "precisions mean 0.6159918485735515\n",
      "recalls mean 0.7928039702233249\n",
      "aucs mean 0.6492969396195203\n",
      "optimal_thresholds mean 0.5\n",
      "Mejores parámetros guardados en 'best_params.json': {'best_params': {'hidden_size': 36, 'batch_size': 151, 'model_name': 'lstm', 'num_layers': 2, 'dropout': 0.5, 'kernel_size': 4, 'num_cnn': 4, 'lr': 0.0017325066604411325}, 'best_score': 0.6932992508360349}\n"
     ]
    }
   ],
   "source": [
    "study = optuna.create_study(direction='maximize')\n",
    "study.optimize(objective, n_trials=1)\n",
    "\n",
    "best_params = study.best_params\n",
    "best_score = study.best_value\n",
    "\n",
    "best_params_with_score = {\n",
    "    \"best_params\": best_params,\n",
    "    \"best_score\": best_score\n",
    "}\n",
    "\n",
    "with open(\"best_params.json\", \"w\") as f:\n",
    "    json.dump(best_params_with_score, f, indent=4)\n",
    "\n",
    "print(f\"Mejores parámetros guardados en 'best_params.json': {best_params_with_score}\")"
   ]
  },
  {
   "cell_type": "markdown",
   "id": "d095bdf7",
   "metadata": {},
   "source": [
    "# train test with best params"
   ]
  },
  {
   "cell_type": "markdown",
   "id": "55431955",
   "metadata": {},
   "source": [
    "## cv"
   ]
  },
  {
   "cell_type": "code",
   "execution_count": null,
   "id": "937430b8",
   "metadata": {},
   "outputs": [
    {
     "name": "stderr",
     "output_type": "stream",
     "text": [
      "You are using the plain ModelCheckpoint callback. Consider using LitModelCheckpoint which with seamless uploading to Model registry.\n",
      "GPU available: False, used: False\n",
      "TPU available: False, using: 0 TPU cores\n",
      "HPU available: False, using: 0 HPUs\n",
      "2025-04-29 09:17:13.092917: I tensorflow/core/util/port.cc:153] oneDNN custom operations are on. You may see slightly different numerical results due to floating-point round-off errors from different computation orders. To turn them off, set the environment variable `TF_ENABLE_ONEDNN_OPTS=0`.\n",
      "2025-04-29 09:17:13.093443: I external/local_xla/xla/tsl/cuda/cudart_stub.cc:32] Could not find cuda drivers on your machine, GPU will not be used.\n",
      "2025-04-29 09:17:13.096582: I external/local_xla/xla/tsl/cuda/cudart_stub.cc:32] Could not find cuda drivers on your machine, GPU will not be used.\n",
      "2025-04-29 09:17:13.103783: E external/local_xla/xla/stream_executor/cuda/cuda_fft.cc:477] Unable to register cuFFT factory: Attempting to register factory for plugin cuFFT when one has already been registered\n",
      "WARNING: All log messages before absl::InitializeLog() is called are written to STDERR\n",
      "E0000 00:00:1745936233.116845   34021 cuda_dnn.cc:8310] Unable to register cuDNN factory: Attempting to register factory for plugin cuDNN when one has already been registered\n",
      "E0000 00:00:1745936233.120335   34021 cuda_blas.cc:1418] Unable to register cuBLAS factory: Attempting to register factory for plugin cuBLAS when one has already been registered\n",
      "2025-04-29 09:17:13.134391: I tensorflow/core/platform/cpu_feature_guard.cc:210] This TensorFlow binary is optimized to use available CPU instructions in performance-critical operations.\n",
      "To enable the following instructions: AVX2 AVX512F AVX512_VNNI FMA, in other operations, rebuild TensorFlow with the appropriate compiler flags.\n",
      "\n",
      "  | Name      | Type       | Params | Mode \n",
      "-------------------------------------------------\n",
      "0 | cnn       | Sequential | 32.0 K | train\n",
      "1 | lstm      | LSTM       | 109 K  | train\n",
      "2 | fc        | Linear     | 49     | train\n",
      "3 | criterion | BCELoss    | 0      | train\n",
      "-------------------------------------------------\n",
      "141 K     Trainable params\n",
      "0         Non-trainable params\n",
      "141 K     Total params\n",
      "0.566     Total estimated model params size (MB)\n",
      "10        Modules in train mode\n",
      "0         Modules in eval mode\n",
      "/home/gyuhee/Documents/bioinformatics/atlas/micro_atlas/env/lib/python3.11/site-packages/lightning/pytorch/trainer/connectors/data_connector.py:425: The 'train_dataloader' does not have many workers which may be a bottleneck. Consider increasing the value of the `num_workers` argument` to `num_workers=7` in the `DataLoader` to improve performance.\n"
     ]
    },
    {
     "name": "stdout",
     "output_type": "stream",
     "text": [
      "Epoch 619: 100%|██████████| 31/31 [00:02<00:00, 14.01it/s, v_num=81]"
     ]
    },
    {
     "name": "stderr",
     "output_type": "stream",
     "text": [
      "`Trainer.fit` stopped: `max_epochs=620` reached.\n"
     ]
    },
    {
     "name": "stdout",
     "output_type": "stream",
     "text": [
      "Epoch 619: 100%|██████████| 31/31 [00:02<00:00, 13.91it/s, v_num=81]\n"
     ]
    },
    {
     "name": "stderr",
     "output_type": "stream",
     "text": [
      "You are using the plain ModelCheckpoint callback. Consider using LitModelCheckpoint which with seamless uploading to Model registry.\n",
      "GPU available: False, used: False\n",
      "TPU available: False, using: 0 TPU cores\n",
      "HPU available: False, using: 0 HPUs\n",
      "\n",
      "  | Name      | Type       | Params | Mode \n",
      "-------------------------------------------------\n",
      "0 | cnn       | Sequential | 32.0 K | train\n",
      "1 | lstm      | LSTM       | 109 K  | train\n",
      "2 | fc        | Linear     | 49     | train\n",
      "3 | criterion | BCELoss    | 0      | train\n",
      "-------------------------------------------------\n",
      "141 K     Trainable params\n",
      "0         Non-trainable params\n",
      "141 K     Total params\n",
      "0.566     Total estimated model params size (MB)\n",
      "10        Modules in train mode\n",
      "0         Modules in eval mode\n",
      "/home/gyuhee/Documents/bioinformatics/atlas/micro_atlas/env/lib/python3.11/site-packages/lightning/pytorch/trainer/connectors/data_connector.py:425: The 'train_dataloader' does not have many workers which may be a bottleneck. Consider increasing the value of the `num_workers` argument` to `num_workers=7` in the `DataLoader` to improve performance.\n"
     ]
    },
    {
     "name": "stdout",
     "output_type": "stream",
     "text": [
      "Epoch 619: 100%|██████████| 31/31 [00:02<00:00, 13.94it/s, v_num=82]"
     ]
    },
    {
     "name": "stderr",
     "output_type": "stream",
     "text": [
      "`Trainer.fit` stopped: `max_epochs=620` reached.\n"
     ]
    },
    {
     "name": "stdout",
     "output_type": "stream",
     "text": [
      "Epoch 619: 100%|██████████| 31/31 [00:02<00:00, 13.87it/s, v_num=82]\n"
     ]
    },
    {
     "name": "stderr",
     "output_type": "stream",
     "text": [
      "You are using the plain ModelCheckpoint callback. Consider using LitModelCheckpoint which with seamless uploading to Model registry.\n",
      "GPU available: False, used: False\n",
      "TPU available: False, using: 0 TPU cores\n",
      "HPU available: False, using: 0 HPUs\n",
      "\n",
      "  | Name      | Type       | Params | Mode \n",
      "-------------------------------------------------\n",
      "0 | cnn       | Sequential | 32.0 K | train\n",
      "1 | lstm      | LSTM       | 109 K  | train\n",
      "2 | fc        | Linear     | 49     | train\n",
      "3 | criterion | BCELoss    | 0      | train\n",
      "-------------------------------------------------\n",
      "141 K     Trainable params\n",
      "0         Non-trainable params\n",
      "141 K     Total params\n",
      "0.566     Total estimated model params size (MB)\n",
      "10        Modules in train mode\n",
      "0         Modules in eval mode\n",
      "/home/gyuhee/Documents/bioinformatics/atlas/micro_atlas/env/lib/python3.11/site-packages/lightning/pytorch/trainer/connectors/data_connector.py:425: The 'train_dataloader' does not have many workers which may be a bottleneck. Consider increasing the value of the `num_workers` argument` to `num_workers=7` in the `DataLoader` to improve performance.\n"
     ]
    },
    {
     "name": "stdout",
     "output_type": "stream",
     "text": [
      "Epoch 619: 100%|██████████| 31/31 [00:02<00:00, 13.96it/s, v_num=83]"
     ]
    },
    {
     "name": "stderr",
     "output_type": "stream",
     "text": [
      "`Trainer.fit` stopped: `max_epochs=620` reached.\n"
     ]
    },
    {
     "name": "stdout",
     "output_type": "stream",
     "text": [
      "Epoch 619: 100%|██████████| 31/31 [00:02<00:00, 13.86it/s, v_num=83]\n"
     ]
    },
    {
     "name": "stderr",
     "output_type": "stream",
     "text": [
      "You are using the plain ModelCheckpoint callback. Consider using LitModelCheckpoint which with seamless uploading to Model registry.\n",
      "GPU available: False, used: False\n",
      "TPU available: False, using: 0 TPU cores\n",
      "HPU available: False, using: 0 HPUs\n",
      "\n",
      "  | Name      | Type       | Params | Mode \n",
      "-------------------------------------------------\n",
      "0 | cnn       | Sequential | 32.0 K | train\n",
      "1 | lstm      | LSTM       | 109 K  | train\n",
      "2 | fc        | Linear     | 49     | train\n",
      "3 | criterion | BCELoss    | 0      | train\n",
      "-------------------------------------------------\n",
      "141 K     Trainable params\n",
      "0         Non-trainable params\n",
      "141 K     Total params\n",
      "0.566     Total estimated model params size (MB)\n",
      "10        Modules in train mode\n",
      "0         Modules in eval mode\n",
      "/home/gyuhee/Documents/bioinformatics/atlas/micro_atlas/env/lib/python3.11/site-packages/lightning/pytorch/trainer/connectors/data_connector.py:425: The 'train_dataloader' does not have many workers which may be a bottleneck. Consider increasing the value of the `num_workers` argument` to `num_workers=7` in the `DataLoader` to improve performance.\n"
     ]
    },
    {
     "name": "stdout",
     "output_type": "stream",
     "text": [
      "Epoch 619: 100%|██████████| 31/31 [00:02<00:00, 12.60it/s, v_num=84]"
     ]
    },
    {
     "name": "stderr",
     "output_type": "stream",
     "text": [
      "`Trainer.fit` stopped: `max_epochs=620` reached.\n"
     ]
    },
    {
     "name": "stdout",
     "output_type": "stream",
     "text": [
      "Epoch 619: 100%|██████████| 31/31 [00:02<00:00, 12.54it/s, v_num=84]\n",
      "accuracies [0.7841191066997518, 0.7907361455748553, 0.7932175351530191, 0.7932175351530191]\n",
      "f1_scores [np.float64(0.7952941176470588), np.float64(0.8003157063930545), np.float64(0.8011137629276054), np.float64(0.8009554140127388)]\n",
      "precisions [np.float64(0.756152125279642), np.float64(0.7652830188679245), np.float64(0.7716475095785441), np.float64(0.7720644666155027)]\n",
      "recalls [np.float64(0.8387096774193549), np.float64(0.8387096774193549), np.float64(0.8329197684036393), np.float64(0.8320926385442514)]\n",
      "aucs [np.float64(0.7841191066997519), np.float64(0.7907361455748553), np.float64(0.7932175351530191), np.float64(0.7932175351530191)]\n",
      "optimal_thresholds [0.5, 0.5, 0.5, 0.5]\n",
      "accuracy mean 0.7903225806451613\n",
      "f1_scores mean 0.7994197502451144\n",
      "precisions mean 0.7662867800854033\n",
      "recalls mean 0.8356079404466501\n",
      "aucs mean 0.7903225806451614\n",
      "optimal_thresholds mean 0.5\n"
     ]
    }
   ],
   "source": [
    "result_dict = lstm_torch_cv(**best, X=X_ts, y=y_ts)"
   ]
  },
  {
   "cell_type": "markdown",
   "id": "2a746c30",
   "metadata": {},
   "source": [
    "## train test"
   ]
  },
  {
   "cell_type": "code",
   "execution_count": 15,
   "id": "b1470ad6",
   "metadata": {},
   "outputs": [
    {
     "name": "stderr",
     "output_type": "stream",
     "text": [
      "You are using the plain ModelCheckpoint callback. Consider using LitModelCheckpoint which with seamless uploading to Model registry.\n",
      "GPU available: False, used: False\n",
      "TPU available: False, using: 0 TPU cores\n",
      "HPU available: False, using: 0 HPUs\n",
      "\n",
      "  | Name      | Type       | Params | Mode \n",
      "-------------------------------------------------\n",
      "0 | cnn       | Sequential | 32.0 K | train\n",
      "1 | lstm      | LSTM       | 109 K  | train\n",
      "2 | fc        | Linear     | 49     | train\n",
      "3 | criterion | BCELoss    | 0      | train\n",
      "-------------------------------------------------\n",
      "141 K     Trainable params\n",
      "0         Non-trainable params\n",
      "141 K     Total params\n",
      "0.566     Total estimated model params size (MB)\n",
      "10        Modules in train mode\n",
      "0         Modules in eval mode\n",
      "/home/gyuhee/Documents/bioinformatics/atlas/micro_atlas/env/lib/python3.11/site-packages/lightning/pytorch/trainer/connectors/data_connector.py:425: The 'train_dataloader' does not have many workers which may be a bottleneck. Consider increasing the value of the `num_workers` argument` to `num_workers=7` in the `DataLoader` to improve performance.\n"
     ]
    },
    {
     "name": "stdout",
     "output_type": "stream",
     "text": [
      "Epoch 619: 100%|██████████| 34/34 [00:02<00:00, 12.64it/s, v_num=2]"
     ]
    },
    {
     "name": "stderr",
     "output_type": "stream",
     "text": [
      "`Trainer.fit` stopped: `max_epochs=620` reached.\n"
     ]
    },
    {
     "name": "stdout",
     "output_type": "stream",
     "text": [
      "Epoch 619: 100%|██████████| 34/34 [00:02<00:00, 12.55it/s, v_num=2]\n"
     ]
    }
   ],
   "source": [
    "result, cm = lstm_torch_train(**best, X_train=X_train, X_val=X_test, y_train=y_train, y_val=y_test, cf_mt=True)"
   ]
  },
  {
   "cell_type": "code",
   "execution_count": 16,
   "id": "e9b9e8b3",
   "metadata": {},
   "outputs": [
    {
     "data": {
      "text/plain": [
       "array([[749, 238],\n",
       "       [164, 784]])"
      ]
     },
     "execution_count": 16,
     "metadata": {},
     "output_type": "execute_result"
    }
   ],
   "source": [
    "cm"
   ]
  }
 ],
 "metadata": {
  "kernelspec": {
   "display_name": "env",
   "language": "python",
   "name": "python3"
  },
  "language_info": {
   "codemirror_mode": {
    "name": "ipython",
    "version": 3
   },
   "file_extension": ".py",
   "mimetype": "text/x-python",
   "name": "python",
   "nbconvert_exporter": "python",
   "pygments_lexer": "ipython3",
   "version": "3.11.4"
  }
 },
 "nbformat": 4,
 "nbformat_minor": 5
}
