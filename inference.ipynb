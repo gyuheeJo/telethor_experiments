{
 "cells": [
  {
   "cell_type": "code",
   "execution_count": 4,
   "id": "f42713c6",
   "metadata": {},
   "outputs": [],
   "source": [
    "import pandas as pd\n",
    "import numpy as np\n",
    "from scripts.preprocess import ts_preprocess, scale\n",
    "import json\n",
    "from scripts.model import CNN_LSTM, LightningLSTM\n",
    "import torch\n",
    "from sklearn.metrics import accuracy_score, f1_score, recall_score, precision_score, roc_auc_score, confusion_matrix"
   ]
  },
  {
   "cell_type": "code",
   "execution_count": 5,
   "id": "c62a40be",
   "metadata": {},
   "outputs": [
    {
     "data": {
      "text/plain": [
       "(10, 39, 11)"
      ]
     },
     "execution_count": 5,
     "metadata": {},
     "output_type": "execute_result"
    }
   ],
   "source": [
    "point = 57\n",
    "\n",
    "#load hyper params\n",
    "with open(f'scripts/best_params/{point}.json') as f:\n",
    "    best = json.load(f)\n",
    "best = best['best_params']\n",
    "\n",
    "dataframe = pd.read_csv(f'datos_prueba/datos_prueba.csv')\n",
    "dataframe = dataframe.loc[dataframe[\"id\"] == point]\n",
    "#convertimos a formato de datetime\n",
    "dataframe[\"datetime\"] = pd.to_datetime(dataframe[\"datetime\"])\n",
    "df_sorted = dataframe.sort_values(by=[\"datetime\"])\n",
    "dataframe_fs = df_sorted.drop(['feels_like', 'icon', 'id'], axis=1)\n",
    "dataframe_fs[\"datetime\"] = dataframe_fs[\"datetime\"].dt.hour\n",
    "dataframe_fs[\"rain_prob\"] = (dataframe_fs['rain_prob'] >= 0.5).astype(int)\n",
    "X = dataframe_fs.to_numpy()\n",
    "\n",
    "scale_method = best.pop('scale_method')\n",
    "n_steps = best.pop('n_steps')\n",
    "\n",
    "#normalizamos los datos\n",
    "X = scale(X, scale_method)\n",
    "#convertimos en en shape (N, seq_length, n_columns)\n",
    "X = ts_preprocess(X, n_steps=n_steps)\n",
    "X.shape"
   ]
  },
  {
   "cell_type": "code",
   "execution_count": 6,
   "id": "99b12335",
   "metadata": {},
   "outputs": [
    {
     "name": "stderr",
     "output_type": "stream",
     "text": [
      "Seed set to 42\n"
     ]
    },
    {
     "name": "stdout",
     "output_type": "stream",
     "text": [
      "preditions logits:\n",
      "[9.9998295e-01 9.3134731e-01 3.5595307e-01 6.0166017e-04 6.5908622e-05\n",
      " 1.0449707e-03 2.5802511e-01 9.6963221e-01 9.9880564e-01 5.9429407e-01]\n",
      "preditions:\n",
      "[1 1 0 0 0 0 0 1 1 1]\n"
     ]
    }
   ],
   "source": [
    "#load model\n",
    "if best['model_name'] == 'cnn_lstm':\n",
    "    model = CNN_LSTM(X.shape[2], hidden_size=best['hidden_size'], num_layers=best['num_layers'], dropout=best['dropout'], kernel_size=best['kernel_size'], num_cnn=best['num_cnn'])\n",
    "elif best['model_name'] == 'lstm':\n",
    "    model = LightningLSTM(X.shape[2], hidden_size=best['hidden_size'], num_layers=best['num_layers'], dropout=best['dropout'])\n",
    "else:\n",
    "    raise Exception\n",
    "device = \"cuda\" if torch.cuda.is_available() else \"cpu\"\n",
    "checkpoint = torch.load(f'trained_models/{point}.pth',\n",
    "                        map_location=torch.device(device),\n",
    "                        weights_only=True)\n",
    "\n",
    "model.load_state_dict(checkpoint)\n",
    "model.eval()\n",
    "\n",
    "#predecimos\n",
    "y_pred = model(torch.tensor(X, dtype=torch.float32)).cpu().detach().numpy()\n",
    "y_pred = y_pred.reshape(y_pred.shape[0])\n",
    "y_pred_logit = y_pred.copy()\n",
    "\n",
    "optimal_threshold = 0.5\n",
    "y_pred[ y_pred > optimal_threshold] = 1\n",
    "y_pred[ y_pred <= optimal_threshold] = 0\n",
    "\n",
    "#mostramos 30 primeros\n",
    "print(f\"preditions logits:\\n{y_pred_logit[:30]}\")\n",
    "print(f\"preditions:\\n{y_pred[:30].astype(np.int32)}\")"
   ]
  }
 ],
 "metadata": {
  "kernelspec": {
   "display_name": "env",
   "language": "python",
   "name": "python3"
  },
  "language_info": {
   "codemirror_mode": {
    "name": "ipython",
    "version": 3
   },
   "file_extension": ".py",
   "mimetype": "text/x-python",
   "name": "python",
   "nbconvert_exporter": "python",
   "pygments_lexer": "ipython3",
   "version": "3.11.4"
  }
 },
 "nbformat": 4,
 "nbformat_minor": 5
}
